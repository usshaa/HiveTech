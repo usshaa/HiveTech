{
  "nbformat": 4,
  "nbformat_minor": 0,
  "metadata": {
    "colab": {
      "provenance": [],
      "authorship_tag": "ABX9TyNVFPHbxwJK9fTZcz+5GfYj",
      "include_colab_link": true
    },
    "kernelspec": {
      "name": "python3",
      "display_name": "Python 3"
    },
    "language_info": {
      "name": "python"
    }
  },
  "cells": [
    {
      "cell_type": "markdown",
      "metadata": {
        "id": "view-in-github",
        "colab_type": "text"
      },
      "source": [
        "<a href=\"https://colab.research.google.com/github/usshaa/HiveTech/blob/main/Synthetic_Datasets.ipynb\" target=\"_parent\"><img src=\"https://colab.research.google.com/assets/colab-badge.svg\" alt=\"Open In Colab\"/></a>"
      ]
    },
    {
      "cell_type": "code",
      "source": [
        "import pandas as pd\n",
        "import numpy as np\n",
        "import random\n",
        "from datetime import datetime, timedelta\n",
        "\n",
        "# Task 1: Generate dataset for Excel Fundamentals\n",
        "def generate_fundamentals_dataset():\n",
        "    data = {\n",
        "        'Month': [\"Jan\", \"Feb\", \"Mar\", \"Apr\", \"May\", \"Jun\", \"Jul\", \"Aug\", \"Sep\", \"Oct\", \"Nov\", \"Dec\"],\n",
        "        'Sales': np.random.randint(1000, 10000, 12),\n",
        "        'Expenses': np.random.randint(500, 7000, 12),\n",
        "        'Profit': lambda df: df['Sales'] - df['Expenses']\n",
        "    }\n",
        "    df = pd.DataFrame(data)\n",
        "    df['Profit'] = df['Sales'] - df['Expenses']\n",
        "    df.to_csv('unit1_fundamentals.csv', index=False)\n",
        "\n",
        "# Task 2: Generate dataset for Advanced Excel Functions\n",
        "def generate_advanced_functions_dataset():\n",
        "    data = {\n",
        "        'Year': np.arange(2015, 2026),\n",
        "        'Sales': np.random.randint(5000, 20000, 11),\n",
        "        'Forecasted Sales': lambda df: df['Sales'] * np.random.uniform(1.05, 1.2, 11)\n",
        "    }\n",
        "    df = pd.DataFrame(data)\n",
        "    df['Forecasted Sales'] = df['Sales'] * np.random.uniform(1.05, 1.2, 11)\n",
        "    df.to_csv('unit2_advanced_functions.csv', index=False)\n",
        "\n",
        "# Task 3: Generate dataset for Lookup, Financial, and Statistical Functions\n",
        "def generate_lookup_financial_dataset():\n",
        "    employee_ids = [f\"EMP{str(i).zfill(3)}\" for i in range(1, 101)]\n",
        "    salaries = np.random.randint(30000, 120000, 100)\n",
        "    departments = random.choices(['HR', 'Finance', 'IT', 'Sales', 'Marketing'], k=100)\n",
        "    df = pd.DataFrame({'Employee ID': employee_ids, 'Department': departments, 'Salary': salaries})\n",
        "    df.to_csv('unit3_lookup_financial.csv', index=False)\n",
        "\n",
        "# Task 4: Generate dataset for Data Analysis and Visualization\n",
        "def generate_data_analysis_dataset():\n",
        "    categories = ['Electronics', 'Clothing', 'Home Decor', 'Toys', 'Books']\n",
        "    ratings = np.random.randint(1, 6, 100)\n",
        "    df = pd.DataFrame({'Product Category': random.choices(categories, k=100), 'Rating': ratings})\n",
        "    df.to_csv('unit4_data_analysis.csv', index=False)\n",
        "\n",
        "# Task 5: Generate dataset for PivotTables and Dashboard Creation\n",
        "def generate_dashboard_dataset():\n",
        "    dates = [datetime.today() - timedelta(days=i) for i in range(365)]\n",
        "    sales = np.random.randint(500, 5000, 365)\n",
        "    categories = random.choices(['Electronics', 'Grocery', 'Fashion', 'Furniture', 'Automobile'], k=365)\n",
        "    df = pd.DataFrame({'Date': dates, 'Sales': sales, 'Category': categories})\n",
        "    df.to_csv('unit5_dashboard.csv', index=False)\n",
        "\n",
        "# Run all functions\n",
        "generate_fundamentals_dataset()\n",
        "generate_advanced_functions_dataset()\n",
        "generate_lookup_financial_dataset()\n",
        "generate_data_analysis_dataset()\n",
        "generate_dashboard_dataset()\n",
        "\n",
        "print(\"All datasets have been generated and saved as CSV files.\")\n"
      ],
      "metadata": {
        "id": "-crN1mRSTUnj",
        "colab": {
          "base_uri": "https://localhost:8080/"
        },
        "outputId": "06684f2e-2028-44d3-d7d7-fff948c18ffc"
      },
      "execution_count": 1,
      "outputs": [
        {
          "output_type": "stream",
          "name": "stdout",
          "text": [
            "All datasets have been generated and saved as CSV files.\n"
          ]
        }
      ]
    },
    {
      "cell_type": "code",
      "source": [],
      "metadata": {
        "id": "z4lUlE0j4mj5"
      },
      "execution_count": null,
      "outputs": []
    }
  ]
}